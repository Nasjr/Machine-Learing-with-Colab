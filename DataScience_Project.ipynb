{
  "nbformat": 4,
  "nbformat_minor": 0,
  "metadata": {
    "colab": {
      "provenance": [],
      "mount_file_id": "1_nlLW4Ps8xDedCsjnPrhRL_gKshLN-3S",
      "authorship_tag": "ABX9TyNjvLSZ4jLMunrt5Bm6Fa8w",
      "include_colab_link": true
    },
    "kernelspec": {
      "name": "python3",
      "display_name": "Python 3"
    },
    "language_info": {
      "name": "python"
    }
  },
  "cells": [
    {
      "cell_type": "markdown",
      "metadata": {
        "id": "view-in-github",
        "colab_type": "text"
      },
      "source": [
        "<a href=\"https://colab.research.google.com/github/Nasjr/Machine-Learing-with-Colab/blob/main/DataScience_Project.ipynb\" target=\"_parent\"><img src=\"https://colab.research.google.com/assets/colab-badge.svg\" alt=\"Open In Colab\"/></a>"
      ]
    },
    {
      "cell_type": "code",
      "execution_count": 1,
      "metadata": {
        "id": "9LzKyeFrYYI9"
      },
      "outputs": [],
      "source": [
        "import pandas as pd\n",
        "import numpy as np\n",
        "import os\n",
        "import matplotlib.pyplot as plt\n",
        "import matplotlib.image as mpimg\n",
        "from PIL import Image\n",
        "from sklearn.model_selection import train_test_split\n",
        "from sklearn.metrics import confusion_matrix\n",
        "from google.colab.patches import cv2_imshow \n",
        "from random import shuffle\n",
        "import random\n",
        "from sklearn.preprocessing import StandardScaler\n",
        "from sklearn.metrics import precision_score"
      ]
    },
    {
      "cell_type": "code",
      "source": [
        "from zipfile import ZipFile\n",
        "\n",
        "dataset = '/content/drive/MyDrive/DataScience_Project/fulldata_resized (1).zip'\n",
        "\n",
        "with ZipFile(dataset, 'r') as zip:\n",
        "  zip.extractall()\n",
        "  print('The dataset is extracted')"
      ],
      "metadata": {
        "colab": {
          "base_uri": "https://localhost:8080/"
        },
        "id": "IAmskDB6ZfbN",
        "outputId": "e57f3d52-0ce0-4247-8d26-68aea5eb5e2e"
      },
      "execution_count": 32,
      "outputs": [
        {
          "output_type": "stream",
          "name": "stdout",
          "text": [
            "The dataset is extracted\n"
          ]
        }
      ]
    },
    {
      "cell_type": "code",
      "source": [
        "dataset_path='/content/fulldata_resized'\n",
        "file_names_full=os.listdir(dataset_path)\n",
        "#print the first three file names\n",
        "print(file_names_full[0:3])"
      ],
      "metadata": {
        "colab": {
          "base_uri": "https://localhost:8080/"
        },
        "id": "JtUzBK3WZfeN",
        "outputId": "1a5c55d7-f119-4639-9724-1105b22c4587"
      },
      "execution_count": 33,
      "outputs": [
        {
          "output_type": "stream",
          "name": "stdout",
          "text": [
            "['dog471.jpeg', 'butterfly813.jpeg', 'horse1509.jpeg']\n"
          ]
        }
      ]
    },
    {
      "cell_type": "code",
      "source": [
        "#Reduce the size of data (deleted some images and eleminated some classes so that the size is trainable and don't consume memory) no need to run it again the data is already saved\n",
        "#create folder named image_reduced\n",
        "fullpath='/content/fulldata_resized/'\n",
        "newpath='/content/image_reduced/'\n",
        "#Set a limit for deleting images\n",
        "count_dog=0\n",
        "cat_count=0\n",
        "buter_count=0\n",
        "horse_count=0\n",
        "cow_count=0\n",
        "chicken_count=0\n",
        "\n",
        "\n",
        "for i in range(len(file_names_full)):\n",
        "  if file_names_full[i][0:3]=='dog'and count_dog<1000:\n",
        "    try:\n",
        "      os.remove(fullpath+file_names_full[i])\n",
        "      count_dog+=1\n",
        "    except OSError as e:\n",
        "      # If it fails, inform the user.\n",
        "      print(\"Error: %s - %s.\" % (e.filename, e.strerror))\n",
        "\n",
        "\n",
        "for i in range(len(file_names_full)):\n",
        "  if file_names_full[i][0:3]=='cat'and cat_count<950:\n",
        "    try:\n",
        "      os.remove(fullpath+file_names_full[i])\n",
        "      cat_count+=1\n",
        "    except OSError as e:\n",
        "      # If it fails, inform the user.\n",
        "      print(\"Error: %s - %s.\" % (e.filename, e.strerror))\n",
        "\n",
        "\n",
        "\n",
        "#remove this class\n",
        "for i in range(len(file_names_full)):\n",
        "  if file_names_full[i][0:9]=='butterfly':\n",
        "    try:\n",
        "      os.remove(fullpath+file_names_full[i])\n",
        "    except OSError as e:\n",
        "      # If it fails, inform the user.\n",
        "      print(\"Error: %s - %s.\" % (e.filename, e.strerror))\n",
        "\n",
        "\n",
        "for i in range(len(file_names_full)):\n",
        "  if file_names_full[i][0:5]=='horse'and horse_count<950:\n",
        "    try:\n",
        "      os.remove(fullpath+file_names_full[i])\n",
        "      horse_count+=1\n",
        "    except OSError as e:\n",
        "      # If it fails, inform the user.\n",
        "      print(\"Error: %s - %s.\" % (e.filename, e.strerror))\n",
        "\n",
        "\n",
        "for i in range(len(file_names_full)):\n",
        "  if file_names_full[i][0:3]=='cow'and cow_count<850:\n",
        "    try:\n",
        "      os.remove(fullpath+file_names_full[i])\n",
        "      cow_count+=1\n",
        "    except OSError as e:\n",
        "      # If it fails, inform the user.\n",
        "      print(\"Error: %s - %s.\" % (e.filename, e.strerror))\n",
        "\n",
        "#remove this class\n",
        "for i in range(len(file_names_full)):\n",
        "  if file_names_full[i][0:7]=='chicken':\n",
        "    try:\n",
        "      os.remove(fullpath+file_names_full[i])\n",
        "    except OSError as e:\n",
        "      # If it fails, inform the user.\n",
        "      print(\"Error: %s - %s.\" % (e.filename, e.strerror))\n",
        "\n",
        "file_names=os.listdir(fullpath)\n",
        "for i in range(len(file_names)):\n",
        "    os.replace(fullpath+file_names[i], newpath+file_names[i])"
      ],
      "metadata": {
        "id": "xIphOwAi0OTY"
      },
      "execution_count": 34,
      "outputs": []
    },
    {
      "cell_type": "markdown",
      "source": [
        "# Categories\n",
        "\n",
        "**In this Dataset we have several Categories and we are going to show them below :**\n",
        "\n"
      ],
      "metadata": {
        "id": "4Su-T2-7lrdE"
      }
    },
    {
      "cell_type": "markdown",
      "source": [
        "**As We see we have :**\n",
        "\n",
        "\n",
        "*   Dogs : 1775 image\n",
        "*   cats : 1668 image\n",
        "*   butterfly : 1496 image\n",
        "*   horse : 1686 image\n",
        "*   cow : 1566 image\n",
        "*   chicken : 1547 image\n",
        "\n",
        "**After reducing data we have:**\n",
        "\n",
        "\n",
        "\n",
        "*   dog: 755\n",
        "*   cat: 718\n",
        "*   butterfly: 0\n",
        "*   horse: 736\n",
        "*   cow: 716\n",
        "*   chicken: 0\n",
        "\n",
        "\n",
        "**Each Category Must be mapped to a number from (1 to n) where n is the number of categories :**\n",
        "\n",
        "\n",
        "*   Dogs --> 0\n",
        "*   cats --> 1\n",
        "*   horse --> 2\n",
        "*   cow --> 3\n",
        "\n",
        "\n",
        "\n",
        "\n",
        "\n",
        "\n"
      ],
      "metadata": {
        "id": "-LFFbMRdmaRU"
      }
    },
    {
      "cell_type": "code",
      "source": [
        "#We need two lists one for the filenames and one for the labels\n",
        "#create folder named image_reduced\n",
        "file_names_resize_reduced=os.listdir('/content/image_reduced/')\n",
        "for i in range(5):\n",
        "  random.seed(4)\n",
        "  random.shuffle(file_names_resize_reduced)\n",
        "print('shffuled list: ',file_names_resize_reduced[0:10])\n",
        "\n",
        "\n",
        "labels=[]\n",
        "imgnames=[]\n",
        "\n",
        "for i in range(len(file_names_resize_reduced)):\n",
        "  \n",
        "  #Store the image names\n",
        "  imgnames.append(file_names_resize_reduced[i])\n",
        "  \n",
        "  #Store the labels of the images\n",
        "  if file_names_resize_reduced[i][0:3]=='dog':\n",
        "        labels.append(0)\n",
        "  elif file_names_resize_reduced[i][0:3]=='cat':\n",
        "        labels.append(1)\n",
        "  elif file_names_resize_reduced[i][0:5]=='horse':\n",
        "        labels.append(2)\n",
        "  elif file_names_resize_reduced[i][0:3]=='cow':\n",
        "        labels.append(3)\n",
        "  else:\n",
        "        print('This is an error')\n",
        "\n",
        "print(imgnames[0:7])\n",
        "print(labels[0:7])"
      ],
      "metadata": {
        "colab": {
          "base_uri": "https://localhost:8080/"
        },
        "id": "I0T_GetBZfjV",
        "outputId": "f521b43b-3f80-4dab-cff7-f584f27e5c34"
      },
      "execution_count": 35,
      "outputs": [
        {
          "output_type": "stream",
          "name": "stdout",
          "text": [
            "shffuled list:  ['horse976.jpeg', 'cat446.jpeg', 'horse44.jpeg', 'dog732.jpeg', 'dog374.jpeg', 'cow1561.jpeg', 'horse1013.jpeg', 'cat624.jpeg', 'cat1050.jpeg', 'cow573.jpeg']\n",
            "['horse976.jpeg', 'cat446.jpeg', 'horse44.jpeg', 'dog732.jpeg', 'dog374.jpeg', 'cow1561.jpeg', 'horse1013.jpeg']\n",
            "[2, 1, 2, 0, 0, 3, 2]\n"
          ]
        }
      ]
    },
    {
      "cell_type": "code",
      "source": [
        "\"\"\"#Check all the types after reducing the size of the data\n",
        "D_counts={'dog':0,'cat':0,\"butterfly\":0,\"horse\":0,'cow':0,'chicken':0,\"error\":0}\n",
        "for i in range(len(file_names_reduced)):\n",
        "    if file_names_reduced[i][0:3]=='dog':\n",
        "        D_counts['dog']+=1\n",
        "    elif file_names_reduced[i][0:3]=='cat':\n",
        "        D_counts['cat']+=1\n",
        "    elif file_names_reduced[i][0:9]=='butterfly':\n",
        "        D_counts['butterfly']+=1\n",
        "    elif file_names_reduced[i][0:5]=='horse':\n",
        "        D_counts['horse']+=1\n",
        "    elif file_names_reduced[i][0:3]=='cow':\n",
        "        D_counts['cow']+=1\n",
        "    elif file_names_reduced[i][0:7]=='chicken':\n",
        "        D_counts['chicken']+=1\n",
        "    else:\n",
        "        D_counts['error']+=1\n",
        "print(D_counts)\"\"\""
      ],
      "metadata": {
        "colab": {
          "base_uri": "https://localhost:8080/",
          "height": 91
        },
        "id": "ZYWeip5oZfgt",
        "outputId": "e2263b23-b1a0-4e73-a7c6-cb2a24547773"
      },
      "execution_count": 30,
      "outputs": [
        {
          "output_type": "execute_result",
          "data": {
            "text/plain": [
              "'#Check all the types after reducing the size of the data\\nD_counts={\\'dog\\':0,\\'cat\\':0,\"butterfly\":0,\"horse\":0,\\'cow\\':0,\\'chicken\\':0,\"error\":0}\\nfor i in range(len(file_names_reduced)):\\n    if file_names_reduced[i][0:3]==\\'dog\\':\\n        D_counts[\\'dog\\']+=1\\n    elif file_names_reduced[i][0:3]==\\'cat\\':\\n        D_counts[\\'cat\\']+=1\\n    elif file_names_reduced[i][0:9]==\\'butterfly\\':\\n        D_counts[\\'butterfly\\']+=1\\n    elif file_names_reduced[i][0:5]==\\'horse\\':\\n        D_counts[\\'horse\\']+=1\\n    elif file_names_reduced[i][0:3]==\\'cow\\':\\n        D_counts[\\'cow\\']+=1\\n    elif file_names_reduced[i][0:7]==\\'chicken\\':\\n        D_counts[\\'chicken\\']+=1\\n    else:\\n        D_counts[\\'error\\']+=1\\nprint(D_counts)'"
            ],
            "application/vnd.google.colaboratory.intrinsic+json": {
              "type": "string"
            }
          },
          "metadata": {},
          "execution_count": 30
        }
      ]
    },
    {
      "cell_type": "code",
      "source": [
        "#This was made to resize the images the images are saved on drive no need to run it again\n",
        "#create folder named image_resized_reduced\n",
        "resized_folder = '/content/image_resized_reduced/'\n",
        "image_directory = '/content/image_reduced/'\n",
        "\n",
        "\n",
        "for i in range(len(file_names_resize_reduced)):\n",
        "  img_path = image_directory+file_names_resize_reduced[i]\n",
        "\n",
        "  img = Image.open(img_path)\n",
        "  img = img.resize((224, 224))\n",
        "  img = img.convert('RGB')\n",
        "\n",
        "  newImgPath = resized_folder+file_names_resize_reduced[i]\n",
        "  img.save(newImgPath)"
      ],
      "metadata": {
        "id": "V-bnnoQKBq36"
      },
      "execution_count": 38,
      "outputs": []
    },
    {
      "cell_type": "code",
      "source": [
        "#After deleting classes of animals\n",
        "D_counts={'dog':0,'cat':0,\"butterfly\":0,\"horse\":0,'cow':0,'chicken':0,\"error\":0}\n",
        "for i in range(len(file_names_resize_reduced)):\n",
        "    if file_names_resize_reduced[i][0:3]=='dog':\n",
        "        D_counts['dog']+=1\n",
        "    elif file_names_resize_reduced[i][0:3]=='cat':\n",
        "        D_counts['cat']+=1\n",
        "    elif file_names_resize_reduced[i][0:9]=='butterfly':\n",
        "        D_counts['butterfly']+=1\n",
        "    elif file_names_resize_reduced[i][0:5]=='horse':\n",
        "        D_counts['horse']+=1\n",
        "    elif file_names_resize_reduced[i][0:3]=='cow':\n",
        "        D_counts['cow']+=1\n",
        "    elif file_names_resize_reduced[i][0:7]=='chicken':\n",
        "        D_counts['chicken']+=1\n",
        "    else:\n",
        "        D_counts['error']+=1\n",
        "print(D_counts)"
      ],
      "metadata": {
        "colab": {
          "base_uri": "https://localhost:8080/"
        },
        "id": "vVUt6FkNERzc",
        "outputId": "00b2f249-08f3-4f5a-c7ad-a1578a4db2cb"
      },
      "execution_count": 39,
      "outputs": [
        {
          "output_type": "stream",
          "name": "stdout",
          "text": [
            "{'dog': 755, 'cat': 718, 'butterfly': 0, 'horse': 736, 'cow': 716, 'chicken': 0, 'error': 0}\n"
          ]
        }
      ]
    },
    {
      "cell_type": "code",
      "source": [
        "import cv2\n",
        "import glob\n",
        "\n",
        "image_directory = '/content/image_resized_reduced/'\n",
        "\n",
        "\n",
        "files = []\n",
        "\n",
        "for name in file_names_resize_reduced:\n",
        "  files.append(image_directory+name)\n",
        "#check for file names\n",
        "print(files[0:3])\n",
        "\n",
        "\n",
        "#convert all images into a MD numpy array aka 'Tensor'\n",
        "all_images_array=np.asarray([cv2.imread(file) for file in files])\n"
      ],
      "metadata": {
        "colab": {
          "base_uri": "https://localhost:8080/"
        },
        "id": "thcNbhclZfl9",
        "outputId": "f11dc256-7347-45df-df2b-858761695c8d"
      },
      "execution_count": 40,
      "outputs": [
        {
          "output_type": "stream",
          "name": "stdout",
          "text": [
            "['/content/image_resized_reduced/horse976.jpeg', '/content/image_resized_reduced/cat446.jpeg', '/content/image_resized_reduced/horse44.jpeg']\n"
          ]
        }
      ]
    },
    {
      "cell_type": "code",
      "source": [
        "print(all_images_array.shape)"
      ],
      "metadata": {
        "colab": {
          "base_uri": "https://localhost:8080/"
        },
        "id": "j66wPIIUZfol",
        "outputId": "e1636ca3-1af9-4618-ad2d-ee482a1a2b61"
      },
      "execution_count": 41,
      "outputs": [
        {
          "output_type": "stream",
          "name": "stdout",
          "text": [
            "(2925, 224, 224, 3)\n"
          ]
        }
      ]
    },
    {
      "cell_type": "code",
      "source": [
        "#shape the data into x and y variables for training and testing\n",
        "\n",
        "X=all_images_array\n",
        "y=np.asarray(labels)\n"
      ],
      "metadata": {
        "id": "cry3XxZfrfn9"
      },
      "execution_count": 42,
      "outputs": []
    },
    {
      "cell_type": "markdown",
      "source": [
        "# It Is time to split our data into Training and testing Data for our model using (train_test_split) function :"
      ],
      "metadata": {
        "id": "zXeR3RxPsEmO"
      }
    },
    {
      "cell_type": "code",
      "source": [
        "x_train,x_test,y_train,y_test=train_test_split(X,y, test_size=0.25,stratify=y,random_state=42)"
      ],
      "metadata": {
        "id": "7q2iNhbqrfqc"
      },
      "execution_count": 43,
      "outputs": []
    },
    {
      "cell_type": "code",
      "source": [
        "x_test_validate=x_test[0:232]\n",
        "x_test=x_test[232:]\n",
        "y_test_validate=y_test[0:232]\n",
        "y_test=y_test[232:]"
      ],
      "metadata": {
        "id": "3hk-D9oLrftF"
      },
      "execution_count": 44,
      "outputs": []
    },
    {
      "cell_type": "code",
      "source": [
        "print(x_test_validate.shape)"
      ],
      "metadata": {
        "colab": {
          "base_uri": "https://localhost:8080/"
        },
        "id": "jtiRWtxQVQpx",
        "outputId": "146a57d2-6f4a-4f8b-99c2-e8722a058ea7"
      },
      "execution_count": 45,
      "outputs": [
        {
          "output_type": "stream",
          "name": "stdout",
          "text": [
            "(232, 224, 224, 3)\n"
          ]
        }
      ]
    },
    {
      "cell_type": "markdown",
      "source": [
        "**Scalling the Data values so that the range is between 0-1 to avoid overfitting and avoid giving weights imbalanced importance values :**"
      ],
      "metadata": {
        "id": "h7UBIKXouMlz"
      }
    },
    {
      "cell_type": "code",
      "source": [
        "#take the first train image and scale them\n",
        "x_train_scaled=x_train/255"
      ],
      "metadata": {
        "id": "4Cen0GZZ3lNz"
      },
      "execution_count": 46,
      "outputs": []
    },
    {
      "cell_type": "code",
      "source": [
        "#take the first 3000 test image and scale them\n",
        "x_test_scaled=x_test/255\n",
        "x_test_scaled_validat=x_test_validate/255"
      ],
      "metadata": {
        "id": "W-AC7tU84MOS"
      },
      "execution_count": 47,
      "outputs": []
    },
    {
      "cell_type": "code",
      "source": [
        "print(x_train_scaled.shape)"
      ],
      "metadata": {
        "colab": {
          "base_uri": "https://localhost:8080/"
        },
        "id": "QixK6UUD6byJ",
        "outputId": "7d621bf7-76b1-4ed9-9c11-f13522579c83"
      },
      "execution_count": 48,
      "outputs": [
        {
          "output_type": "stream",
          "name": "stdout",
          "text": [
            "(2193, 224, 224, 3)\n"
          ]
        }
      ]
    },
    {
      "cell_type": "markdown",
      "source": [
        "# Model Creation : "
      ],
      "metadata": {
        "id": "5qC89AD93UXA"
      }
    },
    {
      "cell_type": "code",
      "source": [
        "import tensorflow as tf\n",
        "import tensorflow_hub as hub"
      ],
      "metadata": {
        "id": "gAfK4doo3TyH"
      },
      "execution_count": 49,
      "outputs": []
    },
    {
      "cell_type": "code",
      "source": [
        "mobile_net_model='https://tfhub.dev/google/tf2-preview/mobilenet_v2/feature_vector/4'\n",
        "#import mobile net model with input shape same for our photos and trainable = false not trained on the last layer\n",
        "pretrained_model=hub.KerasLayer(mobile_net_model,input_shape=(224,224,3),trainable=False)"
      ],
      "metadata": {
        "id": "JkPjbzBD3T0u"
      },
      "execution_count": 50,
      "outputs": []
    },
    {
      "cell_type": "code",
      "source": [
        "#specify the number of classes and the shape of the model\n",
        "number_of_classes=4\n",
        "\n",
        "model=tf.keras.Sequential([\n",
        "    pretrained_model,\n",
        "    #Output layer\n",
        "    tf.keras.layers.Dense(number_of_classes)\n",
        "\n",
        "])\n",
        "\n",
        "model.summary()"
      ],
      "metadata": {
        "id": "OZC8mlxJ3T3m",
        "colab": {
          "base_uri": "https://localhost:8080/"
        },
        "outputId": "ac0bd30d-bf4e-44b1-be4a-7536babe8fe1"
      },
      "execution_count": 51,
      "outputs": [
        {
          "output_type": "stream",
          "name": "stdout",
          "text": [
            "Model: \"sequential\"\n",
            "_________________________________________________________________\n",
            " Layer (type)                Output Shape              Param #   \n",
            "=================================================================\n",
            " keras_layer (KerasLayer)    (None, 1280)              2257984   \n",
            "                                                                 \n",
            " dense (Dense)               (None, 4)                 5124      \n",
            "                                                                 \n",
            "=================================================================\n",
            "Total params: 2,263,108\n",
            "Trainable params: 5,124\n",
            "Non-trainable params: 2,257,984\n",
            "_________________________________________________________________\n"
          ]
        }
      ]
    },
    {
      "cell_type": "code",
      "source": [
        "from tensorflow.python import metrics\n",
        "model.compile(\n",
        "    optimizer = 'adam',\n",
        "    loss = tf.keras.losses.SparseCategoricalCrossentropy(from_logits=True),\n",
        "    metrics = ['acc']\n",
        ")\n"
      ],
      "metadata": {
        "id": "X7jwUfxA3T6f"
      },
      "execution_count": 52,
      "outputs": []
    },
    {
      "cell_type": "markdown",
      "source": [
        "# Model Training :"
      ],
      "metadata": {
        "id": "srmwUzF-Mfgm"
      }
    },
    {
      "cell_type": "code",
      "source": [
        "model_trained=model.fit(x_train_scaled,y_train,epochs=5, validation_data=(x_test_scaled_validat , y_test_validate))"
      ],
      "metadata": {
        "id": "UifMIEdhrf0V",
        "colab": {
          "base_uri": "https://localhost:8080/"
        },
        "outputId": "a5191262-45f3-4542-b59a-837060e67522"
      },
      "execution_count": 53,
      "outputs": [
        {
          "output_type": "stream",
          "name": "stdout",
          "text": [
            "Epoch 1/5\n",
            "69/69 [==============================] - 49s 672ms/step - loss: 0.5716 - acc: 0.7943 - val_loss: 0.2450 - val_acc: 0.9267\n",
            "Epoch 2/5\n",
            "69/69 [==============================] - 48s 692ms/step - loss: 0.2267 - acc: 0.9293 - val_loss: 0.2231 - val_acc: 0.9397\n",
            "Epoch 3/5\n",
            "69/69 [==============================] - 43s 626ms/step - loss: 0.1758 - acc: 0.9462 - val_loss: 0.1927 - val_acc: 0.9353\n",
            "Epoch 4/5\n",
            "69/69 [==============================] - 43s 629ms/step - loss: 0.1473 - acc: 0.9535 - val_loss: 0.1784 - val_acc: 0.9353\n",
            "Epoch 5/5\n",
            "69/69 [==============================] - 43s 625ms/step - loss: 0.1240 - acc: 0.9658 - val_loss: 0.1837 - val_acc: 0.9310\n"
          ]
        }
      ]
    },
    {
      "cell_type": "markdown",
      "source": [
        "# Model Evaluation"
      ],
      "metadata": {
        "id": "1Flvz9oeMkNg"
      }
    },
    {
      "cell_type": "code",
      "source": [
        "score,acc=model.evaluate(x_test_scaled,y_test)\n",
        "\n",
        "print('Test score = ',score,\"Accuracy Score = \",acc)"
      ],
      "metadata": {
        "colab": {
          "base_uri": "https://localhost:8080/"
        },
        "id": "j5WnLcKeBArY",
        "outputId": "3a852cc0-9b69-4585-950f-df91501143fd"
      },
      "execution_count": 54,
      "outputs": [
        {
          "output_type": "stream",
          "name": "stdout",
          "text": [
            "16/16 [==============================] - 9s 569ms/step - loss: 0.1921 - acc: 0.9400\n",
            "Test score =  0.19208544492721558 Accuracy Score =  0.9399999976158142\n"
          ]
        }
      ]
    },
    {
      "cell_type": "code",
      "source": [
        "y_hat=model.predict(x_test_scaled)"
      ],
      "metadata": {
        "colab": {
          "base_uri": "https://localhost:8080/"
        },
        "id": "ytcCbHecJLtf",
        "outputId": "8bdd5c61-f781-420d-b075-ae4f8731bc5d"
      },
      "execution_count": 55,
      "outputs": [
        {
          "output_type": "stream",
          "name": "stdout",
          "text": [
            "16/16 [==============================] - 9s 541ms/step\n"
          ]
        }
      ]
    },
    {
      "cell_type": "code",
      "source": [
        "#plotting\n",
        "plt.plot(model_trained.history['loss'] , label='train loss')\n",
        "plt.plot(model_trained.history['val_loss'] , label = 'test loss')\n",
        "plt.legend()\n",
        "plt.show()\n",
        "plt.plot(model_trained.history['acc'] , label='train acc')\n",
        "plt.plot(model_trained.history['val_acc'] , label = 'test acc')\n",
        "plt.legend()\n",
        "plt.show()"
      ],
      "metadata": {
        "id": "AiHqz_jhI1zv",
        "colab": {
          "base_uri": "https://localhost:8080/",
          "height": 513
        },
        "outputId": "ac06c5a1-1895-47b4-d287-07211b77ae61"
      },
      "execution_count": 56,
      "outputs": [
        {
          "output_type": "display_data",
          "data": {
            "text/plain": [
              "<Figure size 432x288 with 1 Axes>"
            ],
            "image/png": "[encoded data removed]"
          },
          "metadata": {
            "needs_background": "light"
          }
        },
        {
          "output_type": "display_data",
          "data": {
            "text/plain": [
              "<Figure size 432x288 with 1 Axes>"
            ],
            "image/png": "[encoded data removed]"
          },
          "metadata": {
            "needs_background": "light"
          }
        }
      ]
    },
    {
      "cell_type": "code",
      "source": [
        "Cm=confusion_matrix(y_test,np.argmax(y_hat, axis=1))\n",
        "print('Comfusion Matrix ')\n",
        "print('-'*50)\n",
        "print (pd.DataFrame(Cm, columns=['dogs','cats','horses','cows'],index=['dogs','cats','horses','cows']))"
      ],
      "metadata": {
        "colab": {
          "base_uri": "https://localhost:8080/"
        },
        "id": "NLNmN_IcI1xA",
        "outputId": "471c3a43-7fa0-463d-a0a1-378d5e26474c"
      },
      "execution_count": 57,
      "outputs": [
        {
          "output_type": "stream",
          "name": "stdout",
          "text": [
            "Comfusion Matrix \n",
            "--------------------------------------------------\n",
            "        dogs  cats  horses  cows\n",
            "dogs     116     4       1     7\n",
            "cats       1   116       0     1\n",
            "horses     1     0     122     9\n",
            "cows       1     0       5   116\n"
          ]
        }
      ]
    },
    {
      "cell_type": "markdown",
      "source": [
        "Tp=687\n",
        "fp=45\n",
        "fn=45\n",
        "\n",
        "\n",
        "percison=687/687+45 --> 0.93852\n",
        "recall=0.93852\n",
        "micro F1=0.9385\n",
        "\n",
        "\n",
        "\n"
      ],
      "metadata": {
        "id": "vEpPjGrySk3j"
      }
    }
  ]
}